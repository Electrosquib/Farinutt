{
 "cells": [
  {
   "cell_type": "code",
   "execution_count": 7,
   "metadata": {},
   "outputs": [],
   "source": [
    "from openai import OpenAI\n",
    "import json\n",
    "import os\n",
    "import shutil"
   ]
  },
  {
   "cell_type": "code",
   "execution_count": 9,
   "metadata": {},
   "outputs": [],
   "source": [
    "sk = \"hmm thats suspicious\"\n",
    "client = OpenAI(api_key=sk)"
   ]
  },
  {
   "cell_type": "code",
   "execution_count": null,
   "metadata": {},
   "outputs": [],
   "source": [
    "files = os.listdir(\"essays_to_analyze\")\n",
    "chn = []\n",
    "jap = []\n",
    "kor = []\n",
    "idn = []\n",
    "twn = []\n",
    "for i in files:\n",
    "    if \"CHN\" in i: chn.append(i)\n",
    "    elif \"JPN\" in i: jap.append(i)\n",
    "    elif \"KOR\" in i: kor.append(i)\n",
    "    elif \"IDN\" in i: idn.append(i)\n",
    "    elif \"TWN\" in i: twn.append(i)\n",
    "codes = {'A2_0', 'B1_1', 'B1_2', 'B2_0'}\n",
    "students = []\n",
    "countries = [chn, jap, kor, idn, twn]\n",
    "for country in countries:\n",
    "    for code in codes:\n",
    "        l = []\n",
    "        for i in countries:\n",
    "            if code in i:\n",
    "                l.append(i)\n",
    "        students.append(l)"
   ]
  },
  {
   "cell_type": "code",
   "execution_count": 5,
   "metadata": {},
   "outputs": [],
   "source": [
    "student_essays = []\n",
    "for i in students:\n",
    "    l = []\n",
    "    for es in i:\n",
    "        with open(\"essays_to_analyze/\"+es, mode=\"r\") as f:\n",
    "            l.append(f.read())\n",
    "    student_essays.append(l)"
   ]
  },
  {
   "cell_type": "code",
   "execution_count": null,
   "metadata": {},
   "outputs": [],
   "source": [
    "# for count, i in enumerate(student_essays):\n",
    "#     s = students[count][0][3:6]+\"_\"+students[count][0][-13:-9]\n",
    "#     try:\n",
    "#         os.mkdir(\"Essays/\"+s)\n",
    "#     except: pass\n",
    "#     messages = [\n",
    "#         {\"role\": \"system\", \"content\": f\"You are an english as a second language (ESL) essay analyzer.\"},\n",
    "#         {\"role\": \"user\", \"content\": f\"Please analyze the following essay for lexical sophistication and get an overall understanding of the authors english capabilities. Then, produce an essay of similar lexical ability for the following topic: Do you think recycling is good? Do not provide any acknowledgements of my prompt like 'certainly' or other. Just provide the essay. You will analyze the following essays to to generate your own. Essay 1: {i[0]}\\nEssay 2:{i[1]}\"}\n",
    "#     ]\n",
    "#     completion = client.chat.completions.create(\n",
    "#         model=\"gpt-4o-mini\",\n",
    "#         messages=messages\n",
    "#     )\n",
    "#     with open(\"Essays/\"+s+\"/GPT.txt\", mode=\"w\") as f:\n",
    "#         f.write(completion.choices[0].message.content.replace(\"\\n\", \" \"))\n",
    "#     with open(\"Essays/\"+s+\"/Student1.txt\", mode=\"w\") as f:\n",
    "#         f.write(student_essays[count][0])\n",
    "#     with open(\"Essays/\"+s+\"/Student2.txt\", mode=\"w\") as f:\n",
    "#         f.write(student_essays[count][1])"
   ]
  },
  {
   "cell_type": "code",
   "execution_count": null,
   "metadata": {},
   "outputs": [],
   "source": [
    "fol = os.listdir(\"Essays\")"
   ]
  },
  {
   "cell_type": "code",
   "execution_count": null,
   "metadata": {},
   "outputs": [],
   "source": [
    "for fold in fol:\n",
    "    os.rename(f\"Essays/{fold}/GPT.txt\", f\"Essays/{fold}/{fold}_GPT.txt\")\n",
    "    os.rename(f\"Essays/{fold}/Student1.txt\", f\"Essays/{fold}/{fold}_1.txt\")\n",
    "    os.rename(f\"Essays/{fold}/Student2.txt\", f\"Essays/{fold}/{fold}_2.txt\")"
   ]
  },
  {
   "cell_type": "code",
   "execution_count": null,
   "metadata": {},
   "outputs": [],
   "source": [
    "dest = \"All\"\n",
    "for fold in fol:\n",
    "    shutil.move(f\"Essays/{fold}/{fold}_GPT.txt\", dest)\n",
    "    shutil.move(f\"Essays/{fold}/{fold}_1.txt\", dest)\n",
    "    shutil.move(f\"Essays/{fold}/{fold}_2.txt\", dest)"
   ]
  },
  {
   "cell_type": "code",
   "execution_count": null,
   "metadata": {},
   "outputs": [],
   "source": []
  }
 ],
 "metadata": {
  "kernelspec": {
   "display_name": "Python 3",
   "language": "python",
   "name": "python3"
  },
  "language_info": {
   "codemirror_mode": {
    "name": "ipython",
    "version": 3
   },
   "file_extension": ".py",
   "mimetype": "text/x-python",
   "name": "python",
   "nbconvert_exporter": "python",
   "pygments_lexer": "ipython3",
   "version": "3.8.8"
  }
 },
 "nbformat": 4,
 "nbformat_minor": 2
}
