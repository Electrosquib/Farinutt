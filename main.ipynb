{
 "cells": [
  {
   "cell_type": "code",
   "execution_count": null,
   "metadata": {},
   "outputs": [
    {
     "name": "stderr",
     "output_type": "stream",
     "text": [
      "940.85s - pydevd: Sending message related to process being replaced timed-out after 5 seconds\n"
     ]
    },
    {
     "name": "stdout",
     "output_type": "stream",
     "text": [
      "Defaulting to user installation because normal site-packages is not writeable\n",
      "Collecting seaborn\n",
      "  Downloading seaborn-0.13.2-py3-none-any.whl (294 kB)\n",
      "\u001b[K     |████████████████████████████████| 294 kB 540 kB/s eta 0:00:01\n",
      "\u001b[?25hRequirement already satisfied: numpy!=1.24.0,>=1.20 in /Users/davidhoneycutt/Library/Python/3.9/lib/python/site-packages (from seaborn) (2.0.2)\n",
      "Requirement already satisfied: matplotlib!=3.6.1,>=3.4 in /Users/davidhoneycutt/Library/Python/3.9/lib/python/site-packages (from seaborn) (3.9.2)\n",
      "Requirement already satisfied: pandas>=1.2 in /Users/davidhoneycutt/Library/Python/3.9/lib/python/site-packages (from seaborn) (2.2.3)\n",
      "Requirement already satisfied: importlib-resources>=3.2.0 in /Users/davidhoneycutt/Library/Python/3.9/lib/python/site-packages (from matplotlib!=3.6.1,>=3.4->seaborn) (6.4.5)\n",
      "Requirement already satisfied: contourpy>=1.0.1 in /Users/davidhoneycutt/Library/Python/3.9/lib/python/site-packages (from matplotlib!=3.6.1,>=3.4->seaborn) (1.3.0)\n",
      "Requirement already satisfied: kiwisolver>=1.3.1 in /Users/davidhoneycutt/Library/Python/3.9/lib/python/site-packages (from matplotlib!=3.6.1,>=3.4->seaborn) (1.4.7)\n",
      "Requirement already satisfied: python-dateutil>=2.7 in /Users/davidhoneycutt/Library/Python/3.9/lib/python/site-packages (from matplotlib!=3.6.1,>=3.4->seaborn) (2.9.0.post0)\n",
      "Requirement already satisfied: fonttools>=4.22.0 in /Users/davidhoneycutt/Library/Python/3.9/lib/python/site-packages (from matplotlib!=3.6.1,>=3.4->seaborn) (4.54.1)\n",
      "Requirement already satisfied: cycler>=0.10 in /Users/davidhoneycutt/Library/Python/3.9/lib/python/site-packages (from matplotlib!=3.6.1,>=3.4->seaborn) (0.12.1)\n",
      "Requirement already satisfied: packaging>=20.0 in /Users/davidhoneycutt/Library/Python/3.9/lib/python/site-packages (from matplotlib!=3.6.1,>=3.4->seaborn) (24.1)\n",
      "Requirement already satisfied: pyparsing>=2.3.1 in /Users/davidhoneycutt/Library/Python/3.9/lib/python/site-packages (from matplotlib!=3.6.1,>=3.4->seaborn) (3.2.0)\n",
      "Requirement already satisfied: pillow>=8 in /Users/davidhoneycutt/Library/Python/3.9/lib/python/site-packages (from matplotlib!=3.6.1,>=3.4->seaborn) (11.0.0)\n",
      "Requirement already satisfied: zipp>=3.1.0 in /Users/davidhoneycutt/Library/Python/3.9/lib/python/site-packages (from importlib-resources>=3.2.0->matplotlib!=3.6.1,>=3.4->seaborn) (3.20.2)\n",
      "Requirement already satisfied: pytz>=2020.1 in /Users/davidhoneycutt/Library/Python/3.9/lib/python/site-packages (from pandas>=1.2->seaborn) (2024.2)\n",
      "Requirement already satisfied: tzdata>=2022.7 in /Users/davidhoneycutt/Library/Python/3.9/lib/python/site-packages (from pandas>=1.2->seaborn) (2024.2)\n",
      "Requirement already satisfied: six>=1.5 in /Applications/Xcode.app/Contents/Developer/Library/Frameworks/Python3.framework/Versions/3.9/lib/python3.9/site-packages (from python-dateutil>=2.7->matplotlib!=3.6.1,>=3.4->seaborn) (1.15.0)\n",
      "Installing collected packages: seaborn\n",
      "Successfully installed seaborn-0.13.2\n",
      "\u001b[33mWARNING: You are using pip version 21.2.4; however, version 24.3.1 is available.\n",
      "You should consider upgrading via the '/Applications/Xcode.app/Contents/Developer/usr/bin/python3 -m pip install --upgrade pip' command.\u001b[0m\n",
      "Note: you may need to restart the kernel to use updated packages.\n"
     ]
    }
   ],
   "source": [
    "from openai import OpenAI\n",
    "import json\n",
    "import os\n",
    "import shutil\n",
    "import pandas as pd\n",
    "from scipy import stats\n",
    "import matplotlib.pyplot as plt\n",
    "import seaborn as sns"
   ]
  },
  {
   "cell_type": "code",
   "execution_count": 9,
   "metadata": {},
   "outputs": [],
   "source": [
    "sk = \"hmm thats suspicious\"\n",
    "client = OpenAI(api_key=sk)"
   ]
  },
  {
   "cell_type": "code",
   "execution_count": null,
   "metadata": {},
   "outputs": [],
   "source": [
    "files = os.listdir(\"essays_to_analyze\")\n",
    "chn = []\n",
    "jap = []\n",
    "kor = []\n",
    "idn = []\n",
    "twn = []\n",
    "for i in files:\n",
    "    if \"CHN\" in i: chn.append(i)\n",
    "    elif \"JPN\" in i: jap.append(i)\n",
    "    elif \"KOR\" in i: kor.append(i)\n",
    "    elif \"IDN\" in i: idn.append(i)\n",
    "    elif \"TWN\" in i: twn.append(i)\n",
    "codes = {'A2_0', 'B1_1', 'B1_2', 'B2_0'}\n",
    "students = []\n",
    "countries = [chn, jap, kor, idn, twn]\n",
    "for country in countries:\n",
    "    for code in codes:\n",
    "        l = []\n",
    "        for i in countries:\n",
    "            if code in i:\n",
    "                l.append(i)\n",
    "        students.append(l)"
   ]
  },
  {
   "cell_type": "code",
   "execution_count": 5,
   "metadata": {},
   "outputs": [],
   "source": [
    "student_essays = []\n",
    "for i in students:\n",
    "    l = []\n",
    "    for es in i:\n",
    "        with open(\"essays_to_analyze/\"+es, mode=\"r\") as f:\n",
    "            l.append(f.read())\n",
    "    student_essays.append(l)"
   ]
  },
  {
   "cell_type": "code",
   "execution_count": null,
   "metadata": {},
   "outputs": [],
   "source": [
    "# for count, i in enumerate(student_essays):\n",
    "#     s = students[count][0][3:6]+\"_\"+students[count][0][-13:-9]\n",
    "#     try:\n",
    "#         os.mkdir(\"Essays/\"+s)\n",
    "#     except: pass\n",
    "#     messages = [\n",
    "#         {\"role\": \"system\", \"content\": f\"You are an english as a second language (ESL) essay analyzer.\"},\n",
    "#         {\"role\": \"user\", \"content\": f\"Please analyze the following essays, which were written by the same person, for lexical sophistication and get an overall understanding of the author's English capabilities. Then produce an essay of similar ability for the following topic: `Do you think recycling is good?` Do not provide any responses to the prompt such as 'certainly', etc. Essay 1: {i[0]}\\nEssay 2:{i[1]}\"}\n",
    "#     ]\n",
    "#     completion = client.chat.completions.create(\n",
    "#         model=\"gpt-4o-mini\",\n",
    "#         messages=messages\n",
    "#     )\n",
    "#     with open(\"Essays/\"+s+\"/GPT.txt\", mode=\"w\") as f:\n",
    "#         f.write(completion.choices[0].message.content.replace(\"\\n\", \" \"))\n",
    "#     with open(\"Essays/\"+s+\"/Student1.txt\", mode=\"w\") as f:\n",
    "#         f.write(student_essays[count][0])\n",
    "#     with open(\"Essays/\"+s+\"/Student2.txt\", mode=\"w\") as f:\n",
    "#         f.write(student_essays[count][1])"
   ]
  },
  {
   "cell_type": "code",
   "execution_count": null,
   "metadata": {},
   "outputs": [],
   "source": [
    "fol = os.listdir(\"Essays\")"
   ]
  },
  {
   "cell_type": "code",
   "execution_count": null,
   "metadata": {},
   "outputs": [],
   "source": [
    "for fold in fol:\n",
    "    os.rename(f\"Essays/{fold}/GPT.txt\", f\"Essays/{fold}/{fold}_GPT.txt\")\n",
    "    os.rename(f\"Essays/{fold}/Student1.txt\", f\"Essays/{fold}/{fold}_1.txt\")\n",
    "    os.rename(f\"Essays/{fold}/Student2.txt\", f\"Essays/{fold}/{fold}_2.txt\")"
   ]
  },
  {
   "cell_type": "code",
   "execution_count": null,
   "metadata": {},
   "outputs": [],
   "source": [
    "dest = \"All\"\n",
    "for fold in fol:\n",
    "    shutil.move(f\"Essays/{fold}/{fold}_GPT.txt\", dest)\n",
    "    shutil.move(f\"Essays/{fold}/{fold}_1.txt\", dest)\n",
    "    shutil.move(f\"Essays/{fold}/{fold}_2.txt\", dest)"
   ]
  },
  {
   "cell_type": "code",
   "execution_count": 7,
   "metadata": {},
   "outputs": [
    {
     "name": "stdout",
     "output_type": "stream",
     "text": [
      "F-statistic: 19.98140671058769, p-value: 2.655736308714753e-07\n"
     ]
    },
    {
     "data": {
      "image/png": "[encoded data removed]",
      "text/plain": [
       "<Figure size 1000x600 with 1 Axes>"
      ]
     },
     "metadata": {},
     "output_type": "display_data"
    }
   ],
   "source": [
    "df = pd.read_csv('grouped_results.csv')\n",
    "groups = [group['COCA_spoken_Frequency_AW'].values for name, group in df.groupby('Topic')]\n",
    "f_stat, p_val = stats.f_oneway(*groups)\n",
    "print(f\"F-statistic: {f_stat}, p-value: {p_val}\")\n",
    "\n",
    "# Set the plot style\n",
    "sns.set(style=\"whitegrid\")\n",
    "\n",
    "# Create the box plot\n",
    "plt.figure(figsize=(10, 6))\n",
    "sns.boxplot(x='Topic', y='COCA_spoken_Frequency_AW', data=df)\n",
    "\n",
    "# Add titles and labels\n",
    "plt.title('COCA Spoken Frequency by Topic')\n",
    "plt.xlabel('Topic')\n",
    "plt.ylabel('COCA Spoken Frequency')\n",
    "plt.show()"
   ]
  },
  {
   "cell_type": "code",
   "execution_count": null,
   "metadata": {},
   "outputs": [],
   "source": []
  }
 ],
 "metadata": {
  "kernelspec": {
   "display_name": "Python 3",
   "language": "python",
   "name": "python3"
  },
  "language_info": {
   "codemirror_mode": {
    "name": "ipython",
    "version": 3
   },
   "file_extension": ".py",
   "mimetype": "text/x-python",
   "name": "python",
   "nbconvert_exporter": "python",
   "pygments_lexer": "ipython3",
   "version": "3.9.6"
  }
 },
 "nbformat": 4,
 "nbformat_minor": 2
}
